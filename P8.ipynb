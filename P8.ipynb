{
 "cells": [
  {
   "cell_type": "code",
   "execution_count": 3,
   "metadata": {},
   "outputs": [
    {
     "name": "stdout",
     "output_type": "stream",
     "text": [
      "TYIT_513_KEVIN\n",
      "OR(0,0)=0\n",
      "OR(0,1)=1\n",
      "OR(1,0)=1\n",
      "OR(1,1)=1\n",
      "AND(0,1)=0\n",
      "AND(1,1)=0\n",
      "AND(0,0)=0\n",
      "AND(1,0)=1\n"
     ]
    }
   ],
   "source": [
    "print(\"TYIT_513_KEVIN\")\n",
    "import numpy as np\n",
    "def unitStep(v):\n",
    "  if v>=0:\n",
    "    return 1\n",
    "  else:\n",
    "    return 0\n",
    " \n",
    "def perceptronModel(x,w,b):\n",
    "  v=np.dot(w,x)+b\n",
    "  y=unitStep(v)\n",
    "  return y\n",
    " \n",
    "def OR_logicfunction(x):\n",
    "  w=np.array([1,1])\n",
    "  b=-0.5\n",
    "  return perceptronModel(x,w,b)\n",
    " \n",
    "def AND_logicFunction(x): \n",
    " w = np.array([1, 1]) \n",
    " bAND = -1.5\n",
    " return perceptronModel(x, w, bAND) \n",
    " \n",
    "test1=np.array([0,0])\n",
    "test2=np.array([0,1])\n",
    "test3=np.array([1,0])\n",
    "test4=np.array([1,1])\n",
    "print(\"OR({},{})={}\".format(0,0,OR_logicfunction(test1)))\n",
    "print(\"OR({},{})={}\".format(0,1,OR_logicfunction(test2)))\n",
    "print(\"OR({},{})={}\".format(1,0,OR_logicfunction(test3)))\n",
    "print(\"OR({},{})={}\".format(1,1,OR_logicfunction(test4)))\n",
    " \n",
    "print(\"AND({},{})={}\".format(0,1,AND_logicFunction(test1)))\n",
    "print(\"AND({},{})={}\".format(1,1,AND_logicFunction(test2)))\n",
    "print(\"AND({},{})={}\".format(0,0,AND_logicFunction(test3)))\n",
    "print(\"AND({},{})={}\".format(1,0,AND_logicFunction(test4)))\n"
   ]
  }
 ],
 "metadata": {
  "kernelspec": {
   "display_name": "Python 3",
   "language": "python",
   "name": "python3"
  },
  "language_info": {
   "codemirror_mode": {
    "name": "ipython",
    "version": 3
   },
   "file_extension": ".py",
   "mimetype": "text/x-python",
   "name": "python",
   "nbconvert_exporter": "python",
   "pygments_lexer": "ipython3",
   "version": "3.11.5"
  },
  "orig_nbformat": 4
 },
 "nbformat": 4,
 "nbformat_minor": 2
}
